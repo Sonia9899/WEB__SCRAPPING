{
 "cells": [
  {
   "cell_type": "code",
   "execution_count": 1,
   "id": "3b18d903",
   "metadata": {},
   "outputs": [],
   "source": [
    "from bs4 import BeautifulSoup\n",
    "import requests,openpyxl"
   ]
  },
  {
   "cell_type": "code",
   "execution_count": 2,
   "id": "7a5724ba",
   "metadata": {},
   "outputs": [
    {
     "name": "stdout",
     "output_type": "stream",
     "text": [
      "1.The Shawshank Redemption(1994) The Shawshank Redemption 1994 9.2\n",
      "name 'sheet' is not defined\n"
     ]
    }
   ],
   "source": [
    "try:\n",
    "    source=requests.get('https://www.imdb.com/chart/top/')\n",
    "    source.raise_for_status()\n",
    "    \n",
    "    soup=BeautifulSoup(source.text,'html.parser')\n",
    "    movies=soup.find('tbody',class_='lister-list').find_all('tr')\n",
    "    \n",
    "    for movie in movies:\n",
    "        name=movie.find('td',class_='titleColumn').a.text\n",
    "        rank=movie.find('td',class_='titleColumn').get_text(strip=True).strip('.')\n",
    "        year=movie.find('td',class_='titleColumn').span.text.strip('()')\n",
    "        \n",
    "        rating=movie.find( 'td',class_='ratingColumn imdbRating').strong.text\n",
    "        \n",
    "        \n",
    "        print(rank,name,year,rating)\n",
    "        sheet.append([rank,name,year,rating])                               \n",
    "    \n",
    "  \n",
    "\n",
    "except Exception as e:\n",
    "    print(e)"
   ]
  },
  {
   "cell_type": "code",
   "execution_count": 3,
   "id": "7c9057b9",
   "metadata": {},
   "outputs": [
    {
     "name": "stdout",
     "output_type": "stream",
     "text": [
      "['Sheet']\n",
      "['Top Rated Movies']\n"
     ]
    }
   ],
   "source": [
    "excel=openpyxl.Workbook()\n",
    "print(excel.sheetnames)\n",
    "sheet=excel.active\n",
    "sheet.title='Top Rated Movies'\n",
    "print(excel.sheetnames)\n",
    "sheet.append(['MOVIE RANK','MOVIE NAME','YEAR','IMDB'])"
   ]
  },
  {
   "cell_type": "code",
   "execution_count": 4,
   "id": "054b6b8f",
   "metadata": {},
   "outputs": [],
   "source": [
    "excel.save('IMDB_MOVIE.csv')"
   ]
  },
  {
   "cell_type": "code",
   "execution_count": null,
   "id": "ed8edaff",
   "metadata": {},
   "outputs": [],
   "source": []
  }
 ],
 "metadata": {
  "kernelspec": {
   "display_name": "Python 3",
   "language": "python",
   "name": "python3"
  },
  "language_info": {
   "codemirror_mode": {
    "name": "ipython",
    "version": 3
   },
   "file_extension": ".py",
   "mimetype": "text/x-python",
   "name": "python",
   "nbconvert_exporter": "python",
   "pygments_lexer": "ipython3",
   "version": "3.8.8"
  }
 },
 "nbformat": 4,
 "nbformat_minor": 5
}
